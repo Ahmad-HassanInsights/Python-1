{
  "nbformat": 4,
  "nbformat_minor": 0,
  "metadata": {
    "colab": {
      "provenance": [],
      "authorship_tag": "ABX9TyOOEKP1aP/dQ8fNgRJ3Z4Yh",
      "include_colab_link": true
    },
    "kernelspec": {
      "name": "python3",
      "display_name": "Python 3"
    },
    "language_info": {
      "name": "python"
    }
  },
  "cells": [
    {
      "cell_type": "markdown",
      "metadata": {
        "id": "view-in-github",
        "colab_type": "text"
      },
      "source": [
        "<a href=\"https://colab.research.google.com/github/Ahmad-HassanInsights/Python-1/blob/master/Espmcricinfo_Data_Scrapper.ipynb\" target=\"_parent\"><img src=\"https://colab.research.google.com/assets/colab-badge.svg\" alt=\"Open In Colab\"/></a>"
      ]
    },
    {
      "cell_type": "code",
      "execution_count": null,
      "metadata": {
        "colab": {
          "base_uri": "https://localhost:8080/"
        },
        "id": "knWZEwDQW-A5",
        "outputId": "dd64aac3-6f0f-4813-b276-ea751ece6001"
      },
      "outputs": [
        {
          "output_type": "stream",
          "name": "stdout",
          "text": [
            "[                    Player       Span  Mat  Inns  Balls   Overs  Mdns   Runs  \\\n",
            "0   M Muralidaran (ICC/SL)  1992-2010  133   230  44039  7339.5  1794  18180   \n",
            "1           SK Warne (AUS)  1992-2007  145   273  40705  6784.1  1761  17995   \n",
            "2        JM Anderson (ENG)  2003-2024  188   350  40037  6672.5  1730  18627   \n",
            "3           A Kumble (IND)  1990-2008  132   236  40850  6808.2  1576  18355   \n",
            "4          SCJ Broad (ENG)  2007-2023  167   309  33698  5616.2  1304  16719   \n",
            "..                     ...        ...  ...   ...    ...     ...   ...    ...   \n",
            "78            MM Ali (ENG)  2014-2023   68   119  12610  2101.4   293   7612   \n",
            "79         BA Stokes (ENG)  2013-2024  105   152  11795  1965.5   350   6506   \n",
            "80        AME Roberts (WI)  1974-1983   47    90  11135       -   382   5174   \n",
            "81           JA Snow (ENG)  1965-1976   49    93  12021       -   415   5387   \n",
            "82        JR Thomson (AUS)  1972-1985   51    90  10535       -   301   5601   \n",
            "\n",
            "    Wkts    BBI    Ave  Econ     SR   4   5  \n",
            "0    800   9/51  22.72  2.47  55.04  45  67  \n",
            "1    708   8/71  25.41  2.65  57.49  48  37  \n",
            "2    704   7/42  26.45  2.79  56.87  32  32  \n",
            "3    619  10/74  29.65  2.69  65.99  31  35  \n",
            "4    604   8/15  27.68  2.97  55.79  28  20  \n",
            "..   ...    ...    ...   ...    ...  ..  ..  \n",
            "78   204   6/53  37.31  3.62  61.81  13   5  \n",
            "79   203   6/22  32.04  3.30  58.10   8   4  \n",
            "80   202   7/54  25.61  2.78  55.12   8  11  \n",
            "81   202   7/40  26.66  2.68  59.50  12   8  \n",
            "82   200   6/46  28.00  3.18  52.67  16   8  \n",
            "\n",
            "[83 rows x 15 columns]]\n"
          ]
        },
        {
          "output_type": "stream",
          "name": "stderr",
          "text": [
            "<ipython-input-5-3de9c0a69ba7>:14: FutureWarning: Passing literal html to 'read_html' is deprecated and will be removed in a future version. To read from a literal string, wrap it in a 'StringIO' object.\n",
            "  data=pd.read_html(str(table))\n"
          ]
        }
      ],
      "source": [
        "from bs4 import BeautifulSoup\n",
        "import requests\n",
        "import pandas as pd\n",
        "import numpy as np\n",
        "\n",
        "url='https://www.espncricinfo.com/records/most-wickets-in-career-93276'\n",
        "\n",
        "response=requests.get(url)\n",
        "soup=BeautifulSoup(response.text,'html.parser')\n",
        "\n",
        "\n",
        "table= soup.find('table')\n",
        "\n",
        "data=pd.read_html(str(table))\n",
        "\n",
        "data.to_csv('most_wickets.csv')\n",
        "\n",
        "print(data)\n"
      ]
    },
    {
      "cell_type": "code",
      "source": [
        "\n"
      ],
      "metadata": {
        "id": "asx3YOkUcZci"
      },
      "execution_count": null,
      "outputs": []
    }
  ]
}